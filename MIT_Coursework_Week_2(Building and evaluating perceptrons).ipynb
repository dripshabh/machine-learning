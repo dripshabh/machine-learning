{
  "nbformat": 4,
  "nbformat_minor": 0,
  "metadata": {
    "colab": {
      "provenance": [],
      "include_colab_link": true
    },
    "kernelspec": {
      "name": "python3",
      "display_name": "Python 3"
    }
  },
  "cells": [
    {
      "cell_type": "markdown",
      "metadata": {
        "id": "view-in-github",
        "colab_type": "text"
      },
      "source": [
        "<a href=\"https://colab.research.google.com/github/dripshabh/machine-learning/blob/dripshabh-algorithms/MIT_Coursework_Week_2(Building%20and%20evaluating%20perceptrons).ipynb\" target=\"_parent\"><img src=\"https://colab.research.google.com/assets/colab-badge.svg\" alt=\"Open In Colab\"/></a>"
      ]
    },
    {
      "cell_type": "markdown",
      "metadata": {
        "id": "_xIaEwCD406A"
      },
      "source": [
        "#MIT 6.036 Spring 2019: Homework 2#\n",
        "\n",
        "This colab notebook provides code and a framework for problems 7-10 of [the homework](https://openlearninglibrary.mit.edu/courses/course-v1:MITx+6.036+1T2019/courseware/Week2/week2_homework/1).  You can work out your solutions here, then submit your results back on the homework page when ready.\n",
        "\n",
        "## <section>**Setup**</section>\n",
        "\n",
        "First, download the code distribution for this homework that contains test cases and helper functions (such as `positive`).\n",
        "\n",
        "Run the next code block to download and import the code for this lab.\n"
      ]
    },
    {
      "cell_type": "code",
      "metadata": {
        "id": "2YM-_zLf9Bp-",
        "outputId": "e64b2259-b4b4-4dab-df76-c2aefe848eb6",
        "colab": {
          "base_uri": "https://localhost:8080/"
        }
      },
      "source": [
        "!rm -f code_for_hw02.py*\n",
        "!wget --no-check-certificate --quiet https://introml_oll.odl.mit.edu/6.036/static/homework/hw02/code_for_hw02.py\n",
        "from code_for_hw02 import *"
      ],
      "execution_count": 3,
      "outputs": [
        {
          "output_type": "stream",
          "name": "stdout",
          "text": [
            "Importing code_for_hw02\n",
            "New procedures added: tidy_plot, plot_separator, plot_data, plot_nonlin_sep, cv,\n",
            "                      rv, y, positive, score\n",
            "Data Sets: super_simple_separable_through_origin(), super_simple_separable(), xor(),\n",
            "           xor_more()\n",
            "Test data for problem 2.1: data1, labels1, data2, labels2\n",
            "Test data for problem 2.2: big_data, big_data_labels, gen_big_data(), gen_lin_separable(),\n",
            "                           big_higher_dim_separable(), gen_flipped_lin_separable()\n",
            "Test functions: test_linear_classifier(), test_perceptron(), test_averaged_perceptron(),\n",
            "                test_eval_classifier(), test_eval_learning_alg(), test_xval_learning_alg()\n",
            "\n",
            "For more information, use 'help', e.g. 'help tidy_plot'\n",
            "Done with import of code_for_hw02\n"
          ]
        }
      ]
    },
    {
      "cell_type": "code",
      "metadata": {
        "id": "2z1zuhqltjBy",
        "colab": {
          "base_uri": "https://localhost:8080/"
        },
        "outputId": "eee0be37-94ef-4d58-d4c1-c304eae188b4"
      },
      "source": [
        "help(tidy_plot)"
      ],
      "execution_count": 4,
      "outputs": [
        {
          "output_type": "stream",
          "name": "stdout",
          "text": [
            "Help on function tidy_plot in module code_for_hw02:\n",
            "\n",
            "tidy_plot(xmin, xmax, ymin, ymax, center=False, title=None, xlabel=None, ylabel=None)\n",
            "    Set up axes for plotting\n",
            "    xmin, xmax, ymin, ymax = (float) plot extents\n",
            "    Return matplotlib axes\n",
            "\n"
          ]
        }
      ]
    },
    {
      "cell_type": "markdown",
      "metadata": {
        "id": "xFxhrJ5XDlvb"
      },
      "source": []
    },
    {
      "cell_type": "code",
      "metadata": {
        "id": "fdu6T1KpDohy"
      },
      "source": [
        "def test(a):\n",
        "  return a + 53"
      ],
      "execution_count": 5,
      "outputs": []
    },
    {
      "cell_type": "code",
      "metadata": {
        "id": "T_soC87TDo69"
      },
      "source": [
        "def methodB(a):\n",
        "  return test(a)"
      ],
      "execution_count": null,
      "outputs": []
    },
    {
      "cell_type": "code",
      "metadata": {
        "id": "xnpAY-d_D4J5"
      },
      "source": [
        "def someMethod():\n",
        "  test = 7\n",
        "  return methodB(test + 3)"
      ],
      "execution_count": null,
      "outputs": []
    },
    {
      "cell_type": "code",
      "metadata": {
        "id": "T5_h5O0ND7Fq",
        "colab": {
          "base_uri": "https://localhost:8080/"
        },
        "outputId": "ec0e1af8-c0bc-410c-d36e-127e4ccedc06"
      },
      "source": [
        "someMethod()"
      ],
      "execution_count": null,
      "outputs": [
        {
          "output_type": "execute_result",
          "data": {
            "text/plain": [
              "63"
            ]
          },
          "metadata": {},
          "execution_count": 7
        }
      ]
    },
    {
      "cell_type": "markdown",
      "metadata": {
        "id": "_bhI4dQB1-UZ"
      },
      "source": [
        "# <section>**7) Implement perceptron**</section>\n",
        "\n",
        "Implement [the perceptron algorithm](https://lms.mitx.mit.edu/courses/course-v1:MITx+6.036+2019_Spring/courseware/Week2/perceptron/2), where\n",
        "\n",
        "* `data` is a numpy array of dimension $d$ by $n$\n",
        "* `labels` is numpy array of dimension $1$ by $n$\n",
        "* `params` is a dictionary specifying extra parameters to this algorithm; your algorithm should run a number of iterations equal to $T$\n",
        "* `hook` is either None or a function that takes the tuple `(th, th0)` as an argument and displays the separator graphically.  We won't be testing this in the Tutor, but it will help you in debugging on your own machine.\n",
        "\n",
        "It should return a tuple of $\\theta$ (a $d$ by 1 array) and $\\theta_0$ (a 1 by 1 array).\n",
        "\n",
        "We have given you some  data sets in the code file for you to test your implementation.\n",
        "\n",
        "Your function should initialize all parameters to 0, then run through the data, in the order it is given, performing an update to the parameters whenever the current parameters would make a mistake on that data point. Perform $T$ iterations through the data."
      ]
    },
    {
      "cell_type": "code",
      "metadata": {
        "id": "1VOOY4DR-O-q"
      },
      "source": [
        "import numpy as np"
      ],
      "execution_count": 6,
      "outputs": []
    },
    {
      "cell_type": "code",
      "metadata": {
        "id": "VtYf8ysk-VQU"
      },
      "source": [
        "def perceptron(data, labels, params = {}, hook = None):\n",
        "    # if T not in params, default to 100\n",
        "    T = params.get('T', 100)\n",
        "    # Your implementation here\n",
        "    d, n = data.shape\n",
        "    theta = np.zeros((d,1))\n",
        "    theta_0 = np.zeros(1)\n",
        "    print(\"d = {}, n = {}, theta shape = {}, theta_0 shape = {}\".format(d,n,theta.shape,theta_0.shape))\n",
        "\n",
        "    for t in range(T):\n",
        "      for i in range(n):\n",
        "        y = labels[0,i]\n",
        "        x = data[:,i]\n",
        "\n",
        "        check = np.dot(theta.T, x) + theta_0\n",
        "        #print(check)\n",
        "\n",
        "        positive = np.sign(y*check) #set up expression to check sign of\n",
        "\n",
        "        if np.sign(y*check) <= 0: #update thetas if there is a mistake\n",
        "          theta[:,0] = theta[:,0] + y*x\n",
        "          theta_0 = theta_0 + y\n",
        "    print(\"shape x = {}, y = {}, theta = {}, theta_0 = {}\".format(x.shape,y.shape,theta.shape,theta_0.shape))\n",
        "    return (theta, theta_0)"
      ],
      "execution_count": 19,
      "outputs": []
    },
    {
      "cell_type": "code",
      "metadata": {
        "id": "92r2oL42-yfM",
        "colab": {
          "base_uri": "https://localhost:8080/"
        },
        "outputId": "fe31793f-049b-468f-90cd-c2f488f88ca6"
      },
      "source": [
        "test_perceptron(perceptron)"
      ],
      "execution_count": 20,
      "outputs": [
        {
          "output_type": "stream",
          "name": "stdout",
          "text": [
            "d = 2, n = 4, theta shape = (2, 1), theta_0 shape = (1,)\n",
            "shape x = (2,), y = (), theta = (2, 1), theta_0 = (1,)\n",
            "-----------Test Perceptron 0-----------\n",
            "Passed! \n",
            "\n",
            "d = 2, n = 4, theta shape = (2, 1), theta_0 shape = (1,)\n",
            "shape x = (2,), y = (), theta = (2, 1), theta_0 = (1,)\n",
            "-----------Test Perceptron 1-----------\n",
            "Passed! \n",
            "\n"
          ]
        }
      ]
    },
    {
      "cell_type": "markdown",
      "metadata": {
        "id": "hQMcSWlmB4-Y"
      },
      "source": [
        "# <section>8) Implement averaged perceptron</section>\n",
        "\n",
        "Regular perceptron can be somewhat sensitive to the most recent examples that it sees. Instead, averaged perceptron produces a more stable output by outputting the average value of `th` and `th0` across all iterations.\n",
        "\n",
        "Implement averaged perceptron with the same spec as regular perceptron, and using the pseudocode below as a guide.\n",
        "<pre>\n",
        "procedure averaged_perceptron({(x^(i), y^(i)), i=1,...n}, T)\n",
        "    th = 0 (d by 1); th0 = 0 (1 by 1)\n",
        "    ths = 0 (d by 1); th0s = 0 (1 by 1)\n",
        "    for t = 1,...,T do:\n",
        "        for i = 1,...,n do:\n",
        "\t        if y^(i)(th . x^(i) + th0) <= 0 then\n",
        "              th = th + y^(i)x^(i)\n",
        "              th0 = th0 + y^(i)\n",
        "\t        ths = ths + th\n",
        "\t        th0s = th0s + th0\n",
        "    return ths/(nT), th0s/(nT)\n",
        "</pre>"
      ]
    },
    {
      "cell_type": "code",
      "metadata": {
        "id": "XAwW00MU_FzS"
      },
      "source": [
        "def averaged_perceptron(data, labels, params={}, hook=None):\n",
        "    # if T not in params, default to 100\n",
        "    T = params.get('T', 100)\n",
        "    # Your implementation here\n",
        "    d, n = data.shape\n",
        "    theta = np.zeros((d,1))\n",
        "    theta_0 = np.zeros(1)\n",
        "    ths = np.zeros((d,1))\n",
        "    th0s = np.zeros(1)\n",
        "    print(\"d = {}, n = {}, theta shape = {}, theta_0 shape = {}, ths shape = {}, th0s = {}\".format(d,n,theta.shape,theta_0.shape, ths.shape, th0s.shape))\n",
        "\n",
        "    for t in range(T):\n",
        "      for i in range(n):\n",
        "        y = labels[0,i]\n",
        "        x = data[:,i]\n",
        "\n",
        "        a = np.dot(x,theta)+theta_0\n",
        "        #print(\"a = {}\".format(a))\n",
        "        positive = np.sign(y*a)\n",
        "\n",
        "        if np.sign(y*a) <=0: # update the thetas\n",
        "          theta[:,0] = theta[:,0]+ y*x\n",
        "          theta_0 = theta_0 + y\n",
        "        ths = ths + theta\n",
        "        th0s = th0s + theta_0\n",
        "\n",
        "    print(\"shape x = {}, y = {}, theta = {}, theta_0 = {}\".format(x.shape,y.shape,theta.shape,theta_0.shape))\n",
        "    return (ths/(n*T), th0s/(n*T))\n"
      ],
      "execution_count": 9,
      "outputs": []
    },
    {
      "cell_type": "code",
      "metadata": {
        "id": "kyLGH0_cBFSU",
        "colab": {
          "base_uri": "https://localhost:8080/"
        },
        "outputId": "7889d7e4-e533-4085-ea61-bd7b87ceeb9c"
      },
      "source": [
        "test_averaged_perceptron(averaged_perceptron)"
      ],
      "execution_count": 10,
      "outputs": [
        {
          "output_type": "stream",
          "name": "stdout",
          "text": [
            "d = 2, n = 4, theta shape = (2, 1), theta_0 shape = (1,), ths shape = (2, 1), th0s = (1,)\n",
            "shape x = (2,), y = (), theta = (2, 1), theta_0 = (1,)\n",
            "-----------Test Averaged Perceptron 0-----------\n",
            "Passed! \n",
            "\n",
            "d = 2, n = 4, theta shape = (2, 1), theta_0 shape = (1,), ths shape = (2, 1), th0s = (1,)\n",
            "shape x = (2,), y = (), theta = (2, 1), theta_0 = (1,)\n",
            "-----------Test Averaged Perceptron 1-----------\n",
            "Passed! \n",
            "\n"
          ]
        }
      ]
    },
    {
      "cell_type": "markdown",
      "metadata": {
        "id": "NTfGq7LNGceQ"
      },
      "source": [
        "# 9) Implement evaluation strategies\n",
        "  \n",
        "## 9.1)  Evaluating a classifier\n",
        "\n",
        "To evaluate a classifier, we are interested in how well it performs on data that it wasn't trained on. Construct a testing procedure that uses a training data set, calls a learning algorithm to get a linear separator (a tuple of $\\theta, \\theta_0$), and then reports the percentage correct on a new testing set as a float between 0. and 1..\n",
        "\n",
        "The learning algorithm is passed as a function that takes a data array and a labels vector.  Your evaluator should be able to interchangeably evaluate `perceptron` or `averaged_perceptron` (or future algorithms with the same spec), depending on what is passed through the `learner` parameter.\n",
        "\n",
        "The `eval_classifier` function should accept the following parameters:\n",
        "\n",
        "* <tt>learner</tt> - a function, such as perceptron or averaged_perceptron\n",
        "* <tt>data_train</tt> - training data\n",
        "* <tt>labels_train</tt> - training labels\n",
        "* <tt>data_test</tt> - test data\n",
        "* <tt>labels_test</tt> - test labels\n",
        "\n",
        "Assume that you have available the function `score` from HW 1, which takes inputs:\n",
        "\n",
        "* <tt>data</tt>: a <tt>d</tt> by <tt>n</tt> array of floats (representing <tt>n</tt> data points in <tt>d</tt> dimensions)\n",
        "* <tt>labels</tt>: a <tt>1</tt> by <tt>n</tt> array of elements in <tt>(+1, -1)</tt>, representing target labels\n",
        "* <tt>th</tt>: a <tt>d</tt> by <tt>1</tt> array of floats that together with\n",
        "* <tt>th0</tt>: a single scalar or 1 by 1 array, represents a hyperplane\n",
        "\n",
        "and returns 1 by 1 matrix with an integer indicating number of data points correct for the separator."
      ]
    },
    {
      "cell_type": "code",
      "metadata": {
        "id": "uSip1lfHBKaT"
      },
      "source": [
        "def eval_classifier(learner, data_train, labels_train, data_test, labels_test):\n",
        "  theta,theta_0 = learner(data_train,labels_train)\n",
        "  print(\"theta shape = {}, theta_0 shape = {}, data_test shape = {}\".format(theta.shape, theta_0.shape, data_test.shape))\n",
        "  print(theta)\n",
        "  raw_score = score(data_test,labels_test,theta,theta_0)\n",
        "  d, test_n = data_test.shape\n",
        "  return raw_score / test_n"
      ],
      "execution_count": 57,
      "outputs": []
    },
    {
      "cell_type": "code",
      "metadata": {
        "id": "beHMGAb6BTu1",
        "colab": {
          "base_uri": "https://localhost:8080/"
        },
        "outputId": "3c9f7a77-8c01-4797-c78d-915830fbfbbf"
      },
      "source": [
        "test_eval_classifier(eval_classifier,perceptron)"
      ],
      "execution_count": null,
      "outputs": [
        {
          "output_type": "stream",
          "name": "stdout",
          "text": [
            "d = 2, n = 30, theta shape = (2, 1), theta_0 shape = (1,)\n",
            "shape x = (2,), y = (), theta = (2, 1), theta_0 = (1,)\n",
            "theta shape = (2, 1), theta_0 shape = (1,), data_test shape = (2, 30)\n",
            "[[3.19695273]\n",
            " [0.10839974]]\n",
            "-----------Test Eval Classifier 0-----------\n",
            "Passed! \n",
            "\n",
            "d = 2, n = 30, theta shape = (2, 1), theta_0 shape = (1,)\n",
            "shape x = (2,), y = (), theta = (2, 1), theta_0 = (1,)\n",
            "theta shape = (2, 1), theta_0 shape = (1,), data_test shape = (2, 30)\n",
            "[[-2.53272084]\n",
            " [ 2.5282913 ]]\n",
            "-----------Test Eval Classifier 1-----------\n",
            "Passed! \n",
            "\n"
          ]
        }
      ]
    },
    {
      "cell_type": "markdown",
      "metadata": {
        "id": "-WPStky3GiJb"
      },
      "source": [
        "\n",
        "\n",
        "```\n",
        "# This is formatted as code\n",
        "```\n",
        "\n",
        "## <subsection>9.2) Evaluating a learning algorithm using a data source</subsection>\n",
        "\n",
        "Construct a testing procedure that takes a learning algorithm and a data source as input and runs the learning algorithm multiple times, each time evaluating the resulting classifier as above. It should report the overall average classification accuracy.\n",
        "\n",
        "You can use our implementation of `eval_classifier` as above.\n",
        "\n",
        "Write the function `eval_learning_alg` that takes:\n",
        "\n",
        "* <tt>learner</tt> - a function, such as perceptron or averaged_perceptron\n",
        "* <tt>data_gen</tt> - a data generator, call it with a desired data set size; returns a tuple (data, labels)\n",
        "* <tt>n_train</tt> - the size of the learning sets\n",
        "* <tt>n_test</tt> - the size of the test sets\n",
        "* <tt>it</tt> - the number of iterations to average over\n",
        "\n",
        "and returns the average classification accuracy as a float between 0. and 1..  \n",
        "\n",
        "** Note: Be sure to generate your training data and then testing data in that order, to ensure that the pseudorandomly generated data matches that in the test code. **"
      ]
    },
    {
      "cell_type": "code",
      "metadata": {
        "id": "6qytb8giBXZq"
      },
      "source": [
        "def eval_learning_alg(learner, data_gen, n_train, n_test, it):\n",
        "    score = 0\n",
        "    for i in range(it):\n",
        "      data_train, labels_train = data_gen(n_train)\n",
        "      data_test, labels_test = data_train, labels_train\n",
        "      score += eval_classifier(learner, data_train, labels_train, data_test, labels_test)\n",
        "    return score / it"
      ],
      "execution_count": 64,
      "outputs": []
    },
    {
      "cell_type": "code",
      "metadata": {
        "id": "uCZojUBJBb06",
        "colab": {
          "base_uri": "https://localhost:8080/"
        },
        "outputId": "4f9482e4-5b88-49a0-d459-b3c24371b7e7"
      },
      "source": [
        "test_eval_learning_alg(eval_learning_alg,perceptron)"
      ],
      "execution_count": null,
      "outputs": [
        {
          "output_type": "stream",
          "name": "stdout",
          "text": [
            "d = 2, n = 10, theta shape = (2, 1), theta_0 shape = (1,)\n",
            "shape x = (2,), y = (), theta = (2, 1), theta_0 = (1,)\n",
            "theta shape = (2, 1), theta_0 shape = (1,), data_test shape = (2, 10)\n",
            "[[0.13368101]\n",
            " [0.87537888]]\n",
            "d = 2, n = 10, theta shape = (2, 1), theta_0 shape = (1,)\n",
            "shape x = (2,), y = (), theta = (2, 1), theta_0 = (1,)\n",
            "theta shape = (2, 1), theta_0 shape = (1,), data_test shape = (2, 10)\n",
            "[[-0.40522929]\n",
            " [-3.71502634]]\n",
            "d = 2, n = 10, theta shape = (2, 1), theta_0 shape = (1,)\n",
            "shape x = (2,), y = (), theta = (2, 1), theta_0 = (1,)\n",
            "theta shape = (2, 1), theta_0 shape = (1,), data_test shape = (2, 10)\n",
            "[[-3.27116076]\n",
            " [ 0.41978856]]\n",
            "d = 2, n = 10, theta shape = (2, 1), theta_0 shape = (1,)\n",
            "shape x = (2,), y = (), theta = (2, 1), theta_0 = (1,)\n",
            "theta shape = (2, 1), theta_0 shape = (1,), data_test shape = (2, 10)\n",
            "[[5.42252635]\n",
            " [1.80439054]]\n",
            "d = 2, n = 10, theta shape = (2, 1), theta_0 shape = (1,)\n",
            "shape x = (2,), y = (), theta = (2, 1), theta_0 = (1,)\n",
            "theta shape = (2, 1), theta_0 shape = (1,), data_test shape = (2, 10)\n",
            "[[ 4.42789539]\n",
            " [-0.89829134]]\n",
            "-----------Test Eval Learning Algo-----------\n",
            "Passed! \n",
            "\n"
          ]
        }
      ]
    },
    {
      "cell_type": "markdown",
      "metadata": {
        "id": "60u9G0QnGzv-"
      },
      "source": [
        "## <subsection>9.3) Evaluating a learning algorithm with a fixed dataset</subsection>\n",
        "\n",
        "Cross-validation is a strategy for evaluating a learning algorithm, using a single training set of size $n$. Cross-validation takes in a learning algorithm $L$, a fixed data set $\\mathcal{D}$, and a parameter $k$. It will run the learning algorithm $k$ different times, then evaluate the accuracy of the resulting classifier, and ultimately return the average of the accuracies over each of the $k$ \"runs\" of $L$. It is structured like this:\n",
        "\n",
        "<pre><code>divide D into k parts, as equally as possible;  call them D_i for i == 0 .. k-1\n",
        "# be sure the data is shuffled in case someone put all the positive examples first in the data!\n",
        "for j from 0 to k-1:\n",
        "    D_minus_j = union of all the datasets D_i, except for D_j\n",
        "    h_j = L(D_minus_j)\n",
        "    score_j = accuracy of h_j measured on D_j\n",
        "return average(score0, ..., score(k-1))\n",
        "</code></pre>\n",
        "\n",
        "So, each time, it trains on  $k−1$ of the pieces of the data set and tests the resulting hypothesis on the piece that was not used for training.\n",
        "\n",
        "When $k=n$, it is called *leave-one-out cross validation*.\n",
        "\n",
        "Implement cross validation **assuming that the input data is shuffled already** so that the positives and negatives are distributed randomly. If the size of the data does not evenly divide by k, split the data into n % k sub-arrays of size n//k + 1 and the rest of size n//k. (Hint: You can use <a href=\"https://docs.scipy.org/doc/numpy/reference/generated/numpy.array_split.html\">numpy.array_split</a>\n",
        "and <a href=\"https://docs.scipy.org/doc/numpy/reference/generated/numpy.concatenate.html\">numpy.concatenate</a> with axis arguments to split and rejoin the data as you desire.)\n",
        "\n",
        "Note: In Python, n//k indicates integer division, e.g. 2//3 gives 0 and 4//3 gives 1."
      ]
    },
    {
      "cell_type": "code",
      "metadata": {
        "id": "W5_iixOmBgR7"
      },
      "source": [
        "def xval_learning_alg(learner, data, labels, k):\n",
        "    data_split = np.array_split(data, k, axis=1)\n",
        "    labels_split = np.array_split(labels, k, axis=1)\n",
        "\n",
        "    print(\"k = {}, len of split = {}\".format(k,len(data)))\n",
        "    scores = []\n",
        "    for i in range(k):\n",
        "      data_minus_i = np.concatenate(data_split[:i] + data_split[i+1:],axis=1)\n",
        "      labels_minus_i = np.concatenate(labels_split[:i] + labels_split[i+1:],axis=1)\n",
        "      data_test = np.array(data_split[i])\n",
        "      labels_test = np.array(labels_split[i])\n",
        "      scores.append(eval_classifier(learner, data_minus_i, labels_minus_i, data_test,labels_test))\n",
        "\n",
        "    return np.average(scores)\n"
      ],
      "execution_count": 44,
      "outputs": []
    },
    {
      "cell_type": "code",
      "metadata": {
        "id": "iUiUgtMHBiZX",
        "colab": {
          "base_uri": "https://localhost:8080/"
        },
        "outputId": "f9ec6345-2c5e-4cee-9ede-75d07ba82d36"
      },
      "source": [
        "test_xval_learning_alg(xval_learning_alg,perceptron)"
      ],
      "execution_count": 45,
      "outputs": [
        {
          "output_type": "stream",
          "name": "stdout",
          "text": [
            "k = 5, len of split = 2\n",
            "d = 2, n = 80, theta shape = (2, 1), theta_0 shape = (1,)\n",
            "shape x = (2,), y = (), theta = (2, 1), theta_0 = (1,)\n",
            "theta shape = (2, 1), theta_0 shape = (1,), data_test shape = (2, 20)\n",
            "[[ 4.33750906]\n",
            " [-1.43826341]]\n",
            "d = 2, n = 80, theta shape = (2, 1), theta_0 shape = (1,)\n",
            "shape x = (2,), y = (), theta = (2, 1), theta_0 = (1,)\n",
            "theta shape = (2, 1), theta_0 shape = (1,), data_test shape = (2, 20)\n",
            "[[5.41400844]\n",
            " [0.12577919]]\n",
            "d = 2, n = 80, theta shape = (2, 1), theta_0 shape = (1,)\n",
            "shape x = (2,), y = (), theta = (2, 1), theta_0 = (1,)\n",
            "theta shape = (2, 1), theta_0 shape = (1,), data_test shape = (2, 20)\n",
            "[[4.96967703]\n",
            " [0.53961321]]\n",
            "d = 2, n = 80, theta shape = (2, 1), theta_0 shape = (1,)\n",
            "shape x = (2,), y = (), theta = (2, 1), theta_0 = (1,)\n",
            "theta shape = (2, 1), theta_0 shape = (1,), data_test shape = (2, 20)\n",
            "[[4.8554351 ]\n",
            " [1.04411716]]\n",
            "d = 2, n = 80, theta shape = (2, 1), theta_0 shape = (1,)\n",
            "shape x = (2,), y = (), theta = (2, 1), theta_0 = (1,)\n",
            "theta shape = (2, 1), theta_0 shape = (1,), data_test shape = (2, 20)\n",
            "[[0.51919799]\n",
            " [0.18628525]]\n",
            "-----------Test Cross-eval Learning Algo-----------\n",
            "Passed! \n",
            "\n"
          ]
        }
      ]
    },
    {
      "cell_type": "markdown",
      "metadata": {
        "id": "crF8flfB3hr1"
      },
      "source": [
        "## 10) Testing\n",
        "\n",
        "In this section, we compare the effectiveness of perceptron and averaged perceptron on some data that are not necessarily linearly separable.\n",
        "\n",
        "Use your `eval_learning_alg` and the `gen_flipped_lin_separable` generator in the code file to evaluate the accuracy of `perceptron` vs. a`veraged_perceptron`. `gen_flipped_lin_separable` can be called with an integer to return a data set and labels. Note that this generates linearly separable data and then \"flips\" the labels with some specified probability (the argument pflip); so most of the results will not be linearly separable. You can also specifiy pflip in the call to the generator. You should use the default values of th and th_0 to retain consistency with the Tutor.\n",
        "\n",
        "Run enough trials so that you can confidently predict the accuracy of these algorithms on new data from that same generator; assume training/test sets on the order of 20 points. The Tutor will check that your answer is within 0.025 of the answer we got using the same generator."
      ]
    },
    {
      "cell_type": "code",
      "metadata": {
        "id": "CXFoptqiI6Aw",
        "colab": {
          "base_uri": "https://localhost:8080/"
        },
        "outputId": "e9a04633-4337-4d8a-ba13-b575cf268707"
      },
      "source": [
        "print(eval_learning_alg(averaged_perceptron, gen_flipped_lin_separable(pflip=.25), 20, 20,50))"
      ],
      "execution_count": 68,
      "outputs": [
        {
          "output_type": "stream",
          "name": "stdout",
          "text": [
            "d = 2, n = 20, theta shape = (2, 1), theta_0 shape = (1,), ths shape = (2, 1), th0s = (1,)\n",
            "shape x = (2,), y = (), theta = (2, 1), theta_0 = (1,)\n",
            "theta shape = (2, 1), theta_0 shape = (1,), data_test shape = (2, 20)\n",
            "[[0.65559284]\n",
            " [2.51604143]]\n",
            "d = 2, n = 20, theta shape = (2, 1), theta_0 shape = (1,), ths shape = (2, 1), th0s = (1,)\n",
            "shape x = (2,), y = (), theta = (2, 1), theta_0 = (1,)\n",
            "theta shape = (2, 1), theta_0 shape = (1,), data_test shape = (2, 20)\n",
            "[[0.86224574]\n",
            " [1.45343974]]\n",
            "d = 2, n = 20, theta shape = (2, 1), theta_0 shape = (1,), ths shape = (2, 1), th0s = (1,)\n",
            "shape x = (2,), y = (), theta = (2, 1), theta_0 = (1,)\n",
            "theta shape = (2, 1), theta_0 shape = (1,), data_test shape = (2, 20)\n",
            "[[0.29991919]\n",
            " [0.2218683 ]]\n",
            "d = 2, n = 20, theta shape = (2, 1), theta_0 shape = (1,), ths shape = (2, 1), th0s = (1,)\n",
            "shape x = (2,), y = (), theta = (2, 1), theta_0 = (1,)\n",
            "theta shape = (2, 1), theta_0 shape = (1,), data_test shape = (2, 20)\n",
            "[[3.24869563]\n",
            " [3.99411383]]\n",
            "d = 2, n = 20, theta shape = (2, 1), theta_0 shape = (1,), ths shape = (2, 1), th0s = (1,)\n",
            "shape x = (2,), y = (), theta = (2, 1), theta_0 = (1,)\n",
            "theta shape = (2, 1), theta_0 shape = (1,), data_test shape = (2, 20)\n",
            "[[2.64476815]\n",
            " [4.80467585]]\n",
            "d = 2, n = 20, theta shape = (2, 1), theta_0 shape = (1,), ths shape = (2, 1), th0s = (1,)\n",
            "shape x = (2,), y = (), theta = (2, 1), theta_0 = (1,)\n",
            "theta shape = (2, 1), theta_0 shape = (1,), data_test shape = (2, 20)\n",
            "[[-0.00958523]\n",
            " [ 1.75010803]]\n",
            "d = 2, n = 20, theta shape = (2, 1), theta_0 shape = (1,), ths shape = (2, 1), th0s = (1,)\n",
            "shape x = (2,), y = (), theta = (2, 1), theta_0 = (1,)\n",
            "theta shape = (2, 1), theta_0 shape = (1,), data_test shape = (2, 20)\n",
            "[[-2.158189  ]\n",
            " [ 1.89117795]]\n",
            "d = 2, n = 20, theta shape = (2, 1), theta_0 shape = (1,), ths shape = (2, 1), th0s = (1,)\n",
            "shape x = (2,), y = (), theta = (2, 1), theta_0 = (1,)\n",
            "theta shape = (2, 1), theta_0 shape = (1,), data_test shape = (2, 20)\n",
            "[[2.6146841 ]\n",
            " [1.70714534]]\n",
            "d = 2, n = 20, theta shape = (2, 1), theta_0 shape = (1,), ths shape = (2, 1), th0s = (1,)\n",
            "shape x = (2,), y = (), theta = (2, 1), theta_0 = (1,)\n",
            "theta shape = (2, 1), theta_0 shape = (1,), data_test shape = (2, 20)\n",
            "[[1.23140513]\n",
            " [2.79047174]]\n",
            "d = 2, n = 20, theta shape = (2, 1), theta_0 shape = (1,), ths shape = (2, 1), th0s = (1,)\n",
            "shape x = (2,), y = (), theta = (2, 1), theta_0 = (1,)\n",
            "theta shape = (2, 1), theta_0 shape = (1,), data_test shape = (2, 20)\n",
            "[[2.77558066]\n",
            " [3.99930444]]\n",
            "d = 2, n = 20, theta shape = (2, 1), theta_0 shape = (1,), ths shape = (2, 1), th0s = (1,)\n",
            "shape x = (2,), y = (), theta = (2, 1), theta_0 = (1,)\n",
            "theta shape = (2, 1), theta_0 shape = (1,), data_test shape = (2, 20)\n",
            "[[-2.60594022]\n",
            " [ 1.13313281]]\n",
            "d = 2, n = 20, theta shape = (2, 1), theta_0 shape = (1,), ths shape = (2, 1), th0s = (1,)\n",
            "shape x = (2,), y = (), theta = (2, 1), theta_0 = (1,)\n",
            "theta shape = (2, 1), theta_0 shape = (1,), data_test shape = (2, 20)\n",
            "[[1.27167487]\n",
            " [1.44862888]]\n",
            "d = 2, n = 20, theta shape = (2, 1), theta_0 shape = (1,), ths shape = (2, 1), th0s = (1,)\n",
            "shape x = (2,), y = (), theta = (2, 1), theta_0 = (1,)\n",
            "theta shape = (2, 1), theta_0 shape = (1,), data_test shape = (2, 20)\n",
            "[[-0.5803323 ]\n",
            " [ 1.58484294]]\n",
            "d = 2, n = 20, theta shape = (2, 1), theta_0 shape = (1,), ths shape = (2, 1), th0s = (1,)\n",
            "shape x = (2,), y = (), theta = (2, 1), theta_0 = (1,)\n",
            "theta shape = (2, 1), theta_0 shape = (1,), data_test shape = (2, 20)\n",
            "[[ 1.77225388]\n",
            " [-0.36523373]]\n",
            "d = 2, n = 20, theta shape = (2, 1), theta_0 shape = (1,), ths shape = (2, 1), th0s = (1,)\n",
            "shape x = (2,), y = (), theta = (2, 1), theta_0 = (1,)\n",
            "theta shape = (2, 1), theta_0 shape = (1,), data_test shape = (2, 20)\n",
            "[[0.93729292]\n",
            " [7.42484736]]\n",
            "d = 2, n = 20, theta shape = (2, 1), theta_0 shape = (1,), ths shape = (2, 1), th0s = (1,)\n",
            "shape x = (2,), y = (), theta = (2, 1), theta_0 = (1,)\n",
            "theta shape = (2, 1), theta_0 shape = (1,), data_test shape = (2, 20)\n",
            "[[1.71027879]\n",
            " [2.58647105]]\n",
            "d = 2, n = 20, theta shape = (2, 1), theta_0 shape = (1,), ths shape = (2, 1), th0s = (1,)\n",
            "shape x = (2,), y = (), theta = (2, 1), theta_0 = (1,)\n",
            "theta shape = (2, 1), theta_0 shape = (1,), data_test shape = (2, 20)\n",
            "[[1.65166771]\n",
            " [2.09571584]]\n",
            "d = 2, n = 20, theta shape = (2, 1), theta_0 shape = (1,), ths shape = (2, 1), th0s = (1,)\n",
            "shape x = (2,), y = (), theta = (2, 1), theta_0 = (1,)\n",
            "theta shape = (2, 1), theta_0 shape = (1,), data_test shape = (2, 20)\n",
            "[[2.09108091]\n",
            " [0.92843981]]\n",
            "d = 2, n = 20, theta shape = (2, 1), theta_0 shape = (1,), ths shape = (2, 1), th0s = (1,)\n",
            "shape x = (2,), y = (), theta = (2, 1), theta_0 = (1,)\n",
            "theta shape = (2, 1), theta_0 shape = (1,), data_test shape = (2, 20)\n",
            "[[1.29318387]\n",
            " [0.29568478]]\n",
            "d = 2, n = 20, theta shape = (2, 1), theta_0 shape = (1,), ths shape = (2, 1), th0s = (1,)\n",
            "shape x = (2,), y = (), theta = (2, 1), theta_0 = (1,)\n",
            "theta shape = (2, 1), theta_0 shape = (1,), data_test shape = (2, 20)\n",
            "[[0.57633913]\n",
            " [0.87306526]]\n",
            "d = 2, n = 20, theta shape = (2, 1), theta_0 shape = (1,), ths shape = (2, 1), th0s = (1,)\n",
            "shape x = (2,), y = (), theta = (2, 1), theta_0 = (1,)\n",
            "theta shape = (2, 1), theta_0 shape = (1,), data_test shape = (2, 20)\n",
            "[[0.08067263]\n",
            " [2.92586105]]\n",
            "d = 2, n = 20, theta shape = (2, 1), theta_0 shape = (1,), ths shape = (2, 1), th0s = (1,)\n",
            "shape x = (2,), y = (), theta = (2, 1), theta_0 = (1,)\n",
            "theta shape = (2, 1), theta_0 shape = (1,), data_test shape = (2, 20)\n",
            "[[-1.26780629]\n",
            " [ 2.49234737]]\n",
            "d = 2, n = 20, theta shape = (2, 1), theta_0 shape = (1,), ths shape = (2, 1), th0s = (1,)\n",
            "shape x = (2,), y = (), theta = (2, 1), theta_0 = (1,)\n",
            "theta shape = (2, 1), theta_0 shape = (1,), data_test shape = (2, 20)\n",
            "[[1.43704571]\n",
            " [2.82220428]]\n",
            "d = 2, n = 20, theta shape = (2, 1), theta_0 shape = (1,), ths shape = (2, 1), th0s = (1,)\n",
            "shape x = (2,), y = (), theta = (2, 1), theta_0 = (1,)\n",
            "theta shape = (2, 1), theta_0 shape = (1,), data_test shape = (2, 20)\n",
            "[[1.75502995]\n",
            " [1.54803237]]\n",
            "d = 2, n = 20, theta shape = (2, 1), theta_0 shape = (1,), ths shape = (2, 1), th0s = (1,)\n",
            "shape x = (2,), y = (), theta = (2, 1), theta_0 = (1,)\n",
            "theta shape = (2, 1), theta_0 shape = (1,), data_test shape = (2, 20)\n",
            "[[2.59004479]\n",
            " [1.34463499]]\n",
            "d = 2, n = 20, theta shape = (2, 1), theta_0 shape = (1,), ths shape = (2, 1), th0s = (1,)\n",
            "shape x = (2,), y = (), theta = (2, 1), theta_0 = (1,)\n",
            "theta shape = (2, 1), theta_0 shape = (1,), data_test shape = (2, 20)\n",
            "[[2.34275448]\n",
            " [1.76678338]]\n",
            "d = 2, n = 20, theta shape = (2, 1), theta_0 shape = (1,), ths shape = (2, 1), th0s = (1,)\n",
            "shape x = (2,), y = (), theta = (2, 1), theta_0 = (1,)\n",
            "theta shape = (2, 1), theta_0 shape = (1,), data_test shape = (2, 20)\n",
            "[[2.32524244]\n",
            " [3.00529456]]\n",
            "d = 2, n = 20, theta shape = (2, 1), theta_0 shape = (1,), ths shape = (2, 1), th0s = (1,)\n",
            "shape x = (2,), y = (), theta = (2, 1), theta_0 = (1,)\n",
            "theta shape = (2, 1), theta_0 shape = (1,), data_test shape = (2, 20)\n",
            "[[1.36573812]\n",
            " [4.00650938]]\n",
            "d = 2, n = 20, theta shape = (2, 1), theta_0 shape = (1,), ths shape = (2, 1), th0s = (1,)\n",
            "shape x = (2,), y = (), theta = (2, 1), theta_0 = (1,)\n",
            "theta shape = (2, 1), theta_0 shape = (1,), data_test shape = (2, 20)\n",
            "[[0.23637091]\n",
            " [2.35113611]]\n",
            "d = 2, n = 20, theta shape = (2, 1), theta_0 shape = (1,), ths shape = (2, 1), th0s = (1,)\n",
            "shape x = (2,), y = (), theta = (2, 1), theta_0 = (1,)\n",
            "theta shape = (2, 1), theta_0 shape = (1,), data_test shape = (2, 20)\n",
            "[[ 2.73606845]\n",
            " [-0.02289052]]\n",
            "d = 2, n = 20, theta shape = (2, 1), theta_0 shape = (1,), ths shape = (2, 1), th0s = (1,)\n",
            "shape x = (2,), y = (), theta = (2, 1), theta_0 = (1,)\n",
            "theta shape = (2, 1), theta_0 shape = (1,), data_test shape = (2, 20)\n",
            "[[2.18168448]\n",
            " [2.21229044]]\n",
            "d = 2, n = 20, theta shape = (2, 1), theta_0 shape = (1,), ths shape = (2, 1), th0s = (1,)\n",
            "shape x = (2,), y = (), theta = (2, 1), theta_0 = (1,)\n",
            "theta shape = (2, 1), theta_0 shape = (1,), data_test shape = (2, 20)\n",
            "[[-0.4895083 ]\n",
            " [ 1.31941901]]\n",
            "d = 2, n = 20, theta shape = (2, 1), theta_0 shape = (1,), ths shape = (2, 1), th0s = (1,)\n",
            "shape x = (2,), y = (), theta = (2, 1), theta_0 = (1,)\n",
            "theta shape = (2, 1), theta_0 shape = (1,), data_test shape = (2, 20)\n",
            "[[2.39338177]\n",
            " [1.08185947]]\n",
            "d = 2, n = 20, theta shape = (2, 1), theta_0 shape = (1,), ths shape = (2, 1), th0s = (1,)\n",
            "shape x = (2,), y = (), theta = (2, 1), theta_0 = (1,)\n",
            "theta shape = (2, 1), theta_0 shape = (1,), data_test shape = (2, 20)\n",
            "[[2.16747882]\n",
            " [5.07258811]]\n",
            "d = 2, n = 20, theta shape = (2, 1), theta_0 shape = (1,), ths shape = (2, 1), th0s = (1,)\n",
            "shape x = (2,), y = (), theta = (2, 1), theta_0 = (1,)\n",
            "theta shape = (2, 1), theta_0 shape = (1,), data_test shape = (2, 20)\n",
            "[[2.48325613]\n",
            " [0.92400547]]\n",
            "d = 2, n = 20, theta shape = (2, 1), theta_0 shape = (1,), ths shape = (2, 1), th0s = (1,)\n",
            "shape x = (2,), y = (), theta = (2, 1), theta_0 = (1,)\n",
            "theta shape = (2, 1), theta_0 shape = (1,), data_test shape = (2, 20)\n",
            "[[2.19172541]\n",
            " [1.80419558]]\n",
            "d = 2, n = 20, theta shape = (2, 1), theta_0 shape = (1,), ths shape = (2, 1), th0s = (1,)\n",
            "shape x = (2,), y = (), theta = (2, 1), theta_0 = (1,)\n",
            "theta shape = (2, 1), theta_0 shape = (1,), data_test shape = (2, 20)\n",
            "[[1.82512596]\n",
            " [1.8667372 ]]\n",
            "d = 2, n = 20, theta shape = (2, 1), theta_0 shape = (1,), ths shape = (2, 1), th0s = (1,)\n",
            "shape x = (2,), y = (), theta = (2, 1), theta_0 = (1,)\n",
            "theta shape = (2, 1), theta_0 shape = (1,), data_test shape = (2, 20)\n",
            "[[0.7020031 ]\n",
            " [0.14602656]]\n",
            "d = 2, n = 20, theta shape = (2, 1), theta_0 shape = (1,), ths shape = (2, 1), th0s = (1,)\n",
            "shape x = (2,), y = (), theta = (2, 1), theta_0 = (1,)\n",
            "theta shape = (2, 1), theta_0 shape = (1,), data_test shape = (2, 20)\n",
            "[[0.45130278]\n",
            " [3.01214556]]\n",
            "d = 2, n = 20, theta shape = (2, 1), theta_0 shape = (1,), ths shape = (2, 1), th0s = (1,)\n",
            "shape x = (2,), y = (), theta = (2, 1), theta_0 = (1,)\n",
            "theta shape = (2, 1), theta_0 shape = (1,), data_test shape = (2, 20)\n",
            "[[1.93941202]\n",
            " [1.73093919]]\n",
            "d = 2, n = 20, theta shape = (2, 1), theta_0 shape = (1,), ths shape = (2, 1), th0s = (1,)\n",
            "shape x = (2,), y = (), theta = (2, 1), theta_0 = (1,)\n",
            "theta shape = (2, 1), theta_0 shape = (1,), data_test shape = (2, 20)\n",
            "[[1.59243183]\n",
            " [2.46083233]]\n",
            "d = 2, n = 20, theta shape = (2, 1), theta_0 shape = (1,), ths shape = (2, 1), th0s = (1,)\n",
            "shape x = (2,), y = (), theta = (2, 1), theta_0 = (1,)\n",
            "theta shape = (2, 1), theta_0 shape = (1,), data_test shape = (2, 20)\n",
            "[[3.43264886]\n",
            " [2.9841833 ]]\n",
            "d = 2, n = 20, theta shape = (2, 1), theta_0 shape = (1,), ths shape = (2, 1), th0s = (1,)\n",
            "shape x = (2,), y = (), theta = (2, 1), theta_0 = (1,)\n",
            "theta shape = (2, 1), theta_0 shape = (1,), data_test shape = (2, 20)\n",
            "[[2.66789155]\n",
            " [0.9197341 ]]\n",
            "d = 2, n = 20, theta shape = (2, 1), theta_0 shape = (1,), ths shape = (2, 1), th0s = (1,)\n",
            "shape x = (2,), y = (), theta = (2, 1), theta_0 = (1,)\n",
            "theta shape = (2, 1), theta_0 shape = (1,), data_test shape = (2, 20)\n",
            "[[0.51922996]\n",
            " [0.61326667]]\n",
            "d = 2, n = 20, theta shape = (2, 1), theta_0 shape = (1,), ths shape = (2, 1), th0s = (1,)\n",
            "shape x = (2,), y = (), theta = (2, 1), theta_0 = (1,)\n",
            "theta shape = (2, 1), theta_0 shape = (1,), data_test shape = (2, 20)\n",
            "[[2.02687035]\n",
            " [1.71964966]]\n",
            "d = 2, n = 20, theta shape = (2, 1), theta_0 shape = (1,), ths shape = (2, 1), th0s = (1,)\n",
            "shape x = (2,), y = (), theta = (2, 1), theta_0 = (1,)\n",
            "theta shape = (2, 1), theta_0 shape = (1,), data_test shape = (2, 20)\n",
            "[[1.89377765]\n",
            " [1.95635216]]\n",
            "d = 2, n = 20, theta shape = (2, 1), theta_0 shape = (1,), ths shape = (2, 1), th0s = (1,)\n",
            "shape x = (2,), y = (), theta = (2, 1), theta_0 = (1,)\n",
            "theta shape = (2, 1), theta_0 shape = (1,), data_test shape = (2, 20)\n",
            "[[0.8703604]\n",
            " [3.5626612]]\n",
            "d = 2, n = 20, theta shape = (2, 1), theta_0 shape = (1,), ths shape = (2, 1), th0s = (1,)\n",
            "shape x = (2,), y = (), theta = (2, 1), theta_0 = (1,)\n",
            "theta shape = (2, 1), theta_0 shape = (1,), data_test shape = (2, 20)\n",
            "[[1.22673536]\n",
            " [1.36260169]]\n",
            "d = 2, n = 20, theta shape = (2, 1), theta_0 shape = (1,), ths shape = (2, 1), th0s = (1,)\n",
            "shape x = (2,), y = (), theta = (2, 1), theta_0 = (1,)\n",
            "theta shape = (2, 1), theta_0 shape = (1,), data_test shape = (2, 20)\n",
            "[[-1.37411202]\n",
            " [ 1.67807615]]\n",
            "d = 2, n = 20, theta shape = (2, 1), theta_0 shape = (1,), ths shape = (2, 1), th0s = (1,)\n",
            "shape x = (2,), y = (), theta = (2, 1), theta_0 = (1,)\n",
            "theta shape = (2, 1), theta_0 shape = (1,), data_test shape = (2, 20)\n",
            "[[1.04202751]\n",
            " [1.29166001]]\n",
            "0.7449999999999999\n"
          ]
        }
      ]
    }
  ]
}