{
  "nbformat": 4,
  "nbformat_minor": 0,
  "metadata": {
    "colab": {
      "provenance": [],
      "authorship_tag": "ABX9TyP7PRLhOSMujY78OhWDmh3E",
      "include_colab_link": true
    },
    "kernelspec": {
      "name": "python3",
      "display_name": "Python 3"
    },
    "language_info": {
      "name": "python"
    }
  },
  "cells": [
    {
      "cell_type": "markdown",
      "metadata": {
        "id": "view-in-github",
        "colab_type": "text"
      },
      "source": [
        "<a href=\"https://colab.research.google.com/github/dripshabh/machine-learning/blob/dripshabh-algorithms/MIT_coursework_Week_1(Building_Linear_Classifier).ipynb\" target=\"_parent\"><img src=\"https://colab.research.google.com/assets/colab-badge.svg\" alt=\"Open In Colab\"/></a>"
      ]
    },
    {
      "cell_type": "markdown",
      "source": [
        "Write a Python function using numpy operations (no loops!) that takes column vectors (\n",
        "d\n",
        "d by 1) x and th (of the same dimension) and scalar th0 and returns the signed perpendicular distance (as a 1 by 1 array) from the hyperplane encoded by (th, th0) to x. Note that you are allowed to use the \"length\" function defined in previous coding questions (includig week 1 exercises)."
      ],
      "metadata": {
        "id": "i5kuoFtA5IrK"
      }
    },
    {
      "cell_type": "code",
      "execution_count": null,
      "metadata": {
        "id": "_7rA4CTNGDw9"
      },
      "outputs": [],
      "source": [
        "import numpy as np\n",
        "def signed_dist(x, th, th0):\n",
        "    return (np.transpose(th).dot(x) + th0)/length(th)"
      ]
    },
    {
      "cell_type": "markdown",
      "source": [
        "Write a Python function that takes as input\n",
        "\n",
        "a column vector x\n",
        "a column vector th that is of the same dimension as x\n",
        "a scalar th0\n",
        "and returns\n",
        "\n",
        "+1 if x is on the positive side of the hyperplane encoded by (th, th0)\n",
        "0 if on the hyperplane\n",
        "-1 otherwise.\n",
        "The answer should be a 2D array (a 1 by 1). Look at the\n",
        "s\n",
        "i\n",
        "g\n",
        "n\n",
        "sign function. Note that you are allowed to use any functions defined in week 1's exercises."
      ],
      "metadata": {
        "id": "kcy1K-TC5Yup"
      }
    },
    {
      "cell_type": "code",
      "source": [
        "import numpy as np\n",
        "def positive(x, th, th0):\n",
        "    return np.sign(signed_dist(x, th, th0))\n"
      ],
      "metadata": {
        "id": "83Wx93mE5AJj"
      },
      "execution_count": null,
      "outputs": []
    },
    {
      "cell_type": "markdown",
      "source": [
        "Now, given a hyperplane and a set of data points, we can think about which points are on which side of the hyperplane. This is something we do in many machine-learning algorithms, as we will explore soon. It is also a chance to begin using numpy on larger chunks of data.\n",
        "\n",
        "1.4) Expressions operating on data\n",
        "\n",
        "We define data to be a 2 by 5 array (two rows, five columns) of scalars. It represents 5 data points in two dimensions. We also define labels to be a 1 by 5 array (1 row, five columns) of 1 and -1 values.\n",
        "\n",
        "data = np.transpose(np.array([[1, 2], [1, 3], [2, 1], [1, -1], [2, -1]]))\n",
        "labels = rv([-1, -1, +1, +1, +1])\n",
        "For each subproblem, provide a Python expression that sets A to the quantity specified. Note that A should always be a 2D numpy array. Only one relatively short expression is needed for each one. No loops!"
      ],
      "metadata": {
        "id": "pIzvOQFs5HIm"
      }
    },
    {
      "cell_type": "code",
      "source": [
        "import numpy as np\n",
        "A = positive(data, th, th0)\n"
      ],
      "metadata": {
        "id": "3Gbu9ua25AaR"
      },
      "execution_count": null,
      "outputs": []
    },
    {
      "cell_type": "markdown",
      "source": [
        "Write a procedure that takes as input\n",
        "\n",
        "data: a d by n array of floats (representing n data points in d dimensions)\n",
        "labels: a 1 by n array of elements in (+1, -1), representing target labels\n",
        "th: a d by 1 array of floats that together with\n",
        "th0: a single scalar or 1 by 1 array, represents a hyperplane\n",
        "and returns the number of points for which the label is equal to the output of the positive function on the point.\n",
        "\n",
        "Since numpy treats False as 0 and True as 1, you can take the sum of a collection of Boolean values directly."
      ],
      "metadata": {
        "id": "Epbuh1zf58cm"
      }
    },
    {
      "cell_type": "code",
      "source": [
        "import numpy as np\n",
        "def score(data, labels, th, th0):\n",
        "    return np.sum(labels == positive(data, th, th0))\n"
      ],
      "metadata": {
        "id": "m3n6GMfZ5Aht"
      },
      "execution_count": null,
      "outputs": []
    },
    {
      "cell_type": "markdown",
      "source": [
        "Now assume that we have some \"candidate\" classifiers that we want to pick the best one out of. Assume you have ths, a\n",
        "d\n",
        "d by\n",
        "m\n",
        "m array of\n",
        "m\n",
        "m candidate\n",
        "θ\n",
        "θ's (each\n",
        "θ\n",
        "θ has dimension\n",
        "d\n",
        "d by 1), and th0s, a 1 by\n",
        "m\n",
        "m array of the corresponding\n",
        "m\n",
        "m candidate\n",
        "θ\n",
        "0\n",
        "θ\n",
        "0\n",
        "​\n",
        " 's. Each of the\n",
        "θ\n",
        "θ,\n",
        "θ\n",
        "0\n",
        "θ\n",
        "0\n",
        "​\n",
        "  pair represents a hyperplane that characterizes a binary classifier.\n",
        "\n",
        "Write a procedure that takes as input\n",
        "\n",
        "data: a d by n array of floats (representing n data points in d dimensions)\n",
        "labels: a 1 by n array of elements in (+1, -1), representing target labels\n",
        "ths: a d by m array of floats representing\n",
        "m\n",
        "m candidate\n",
        "θ\n",
        "θ's (each\n",
        "θ\n",
        "θ has dimension\n",
        "d\n",
        "d by 1)\n",
        "th0s: a 1 by m array of the corresponding\n",
        "m\n",
        "m candidate\n",
        "θ\n",
        "0\n",
        "θ\n",
        "0\n",
        "​\n",
        " 's.\n",
        "and finds the hyperplane with the highest score on the data and labels. In case of a tie, return the first hyperplane with the highest score, in the form of\n",
        "\n",
        "a tuple of a d by 1 array and an offset in the form of 1 by 1 array.\n",
        "The function score that you wrote above was for a single hyperplane separator. Think about how to generalize it to multiple hyperplanes and include this modified (if necessary) definition of score in the answer box.\n",
        "\n"
      ],
      "metadata": {
        "id": "GpRZkLzO6OIr"
      }
    },
    {
      "cell_type": "code",
      "source": [
        "import numpy as np\n",
        "\n",
        "def best_separator(data, labels, ths, th0s):\n",
        "    def scores(data, labels, ths, th0s):\n",
        "        A = (labels == np.sign(np.dot(np.transpose(ths), data) + np.transpose(th0s)))\n",
        "        A = np.sum(A, axis = 1)\n",
        "        print(A)\n",
        "        return A\n",
        "    max_index = np.argmax(scores(data, labels, ths, th0s))\n",
        "    return (cv(ths.T[max_index]), cv(th0s.T[max_index]))\n"
      ],
      "metadata": {
        "id": "WErNdwbi6Q5H"
      },
      "execution_count": null,
      "outputs": []
    }
  ]
}